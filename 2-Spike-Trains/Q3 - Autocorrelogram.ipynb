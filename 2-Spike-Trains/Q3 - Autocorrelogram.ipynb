{
 "cells": [
  {
   "cell_type": "markdown",
   "metadata": {},
   "source": [
    "### Q3 - Correlogram"
   ]
  },
  {
   "cell_type": "code",
   "execution_count": 77,
   "metadata": {},
   "outputs": [],
   "source": [
    "import os\n",
    "import numpy as np\n",
    "from poisson import coefficient_of_variation\n",
    "from load import load_data, generate_spiking_times\n",
    "import matplotlib.pyplot as plt"
   ]
  },
  {
   "cell_type": "code",
   "execution_count": 120,
   "metadata": {},
   "outputs": [
    {
     "name": "stdout",
     "output_type": "stream",
     "text": [
      "Lenght of data: 600000\n",
      "Firing Events: 53601\n",
      "[0, 0, 0, 0, 0, 0, 0, 0, 0, 0, 0, 0, 0, 0, 0, 0, 0, 1]\n"
     ]
    }
   ],
   "source": [
    "file_path = os.getenv('ABS_PATH') + \"/rho.dat\"\n",
    "spikes = load_data(file_path, int)\n",
    "\n",
    "print(\"Lenght of data:\",len(spikes))\n",
    "print(\"Firing Events:\", np.sum(spikes))\n",
    "print(spikes[0:18])"
   ]
  },
  {
   "cell_type": "code",
   "execution_count": 121,
   "metadata": {},
   "outputs": [
    {
     "data": {
      "text/plain": [
       "[0.034000000000000016,\n",
       " 0.044000000000000025,\n",
       " 0.05000000000000003,\n",
       " 0.06200000000000004,\n",
       " 0.06800000000000005]"
      ]
     },
     "execution_count": 121,
     "metadata": {},
     "output_type": "execute_result"
    }
   ],
   "source": [
    "spike_train = generate_spiking_times(spikes)\n",
    "spike_train[0:5]"
   ]
  },
  {
   "cell_type": "code",
   "execution_count": 125,
   "metadata": {},
   "outputs": [
    {
     "name": "stdout",
     "output_type": "stream",
     "text": [
      "50\n"
     ]
    },
    {
     "data": {
      "text/plain": [
       "array([ 0.,  3., 27., 27., 28., 21., 33., 19., 31., 17., 23., 22., 16.,\n",
       "       22., 17., 21., 14., 19., 18., 15., 16., 14., 17., 14., 16., 12.,\n",
       "       16.,  9., 19.,  8., 11., 13., 14., 10., 12., 12., 15., 10., 11.,\n",
       "       16.,  7., 18., 10., 13.,  9., 13.,  9., 13.,  9., 11.])"
      ]
     },
     "execution_count": 125,
     "metadata": {},
     "output_type": "execute_result"
    }
   ],
   "source": [
    "raw_correlations = np.zeros(50)\n",
    "train_length = len(spike_train)\n",
    "\n",
    "for i, spike_time in enumerate(spike_train[:100]):\n",
    "#     print(\"Spike\", i, spike_time)\n",
    "    j = i + 1\n",
    "\n",
    "    while j < train_length:\n",
    "        next_spike = spike_train[j]\n",
    "        time_diff_ms = next_spike - spike_time\n",
    "        \n",
    "        if time_diff_ms <= 0.100:\n",
    "            adj_bin = int(time_diff_ms * 1000)\n",
    "            adj_bin = int(adj_bin/2)\n",
    "            raw_correlations[adj_bin] += 1\n",
    "#             print(j, time_diff_ms, adj_bin)\n",
    "        else:\n",
    "            break\n",
    "            \n",
    "        j += 1\n",
    "\n",
    "positive_correlations = np.array(raw_correlations)\n",
    "print(len(positive_correlations))\n",
    "positive_correlations"
   ]
  },
  {
   "cell_type": "code",
   "execution_count": 126,
   "metadata": {},
   "outputs": [
    {
     "name": "stdout",
     "output_type": "stream",
     "text": [
      "99\n"
     ]
    },
    {
     "data": {
      "text/plain": [
       "array([11.,  9., 13.,  9., 13.,  9., 13., 10., 18.,  7., 16., 11., 10.,\n",
       "       15., 12., 12., 10., 14., 13., 11.,  8., 19.,  9., 16., 12., 16.,\n",
       "       14., 17., 14., 16., 15., 18., 19., 14., 21., 17., 22., 16., 22.,\n",
       "       23., 17., 31., 19., 33., 21., 28., 27., 27.,  3.,  0.,  3., 27.,\n",
       "       27., 28., 21., 33., 19., 31., 17., 23., 22., 16., 22., 17., 21.,\n",
       "       14., 19., 18., 15., 16., 14., 17., 14., 16., 12., 16.,  9., 19.,\n",
       "        8., 11., 13., 14., 10., 12., 12., 15., 10., 11., 16.,  7., 18.,\n",
       "       10., 13.,  9., 13.,  9., 13.,  9., 11.])"
      ]
     },
     "execution_count": 126,
     "metadata": {},
     "output_type": "execute_result"
    }
   ],
   "source": [
    "negative_correlations = np.flip(positive_correlations)[:-1]\n",
    "# print(len(negative_correlations))\n",
    "# negative_correlations\n",
    "correlations = np.append(negative_correlations, positive_correlations)\n",
    "print(len(correlations))\n",
    "correlations"
   ]
  },
  {
   "cell_type": "code",
   "execution_count": 127,
   "metadata": {},
   "outputs": [
    {
     "name": "stdout",
     "output_type": "stream",
     "text": [
      "(99,)\n"
     ]
    },
    {
     "data": {
      "text/plain": [
       "array([-99, -97, -95, -93, -91, -89, -87, -85, -83, -81, -79, -77, -75,\n",
       "       -73, -71, -69, -67, -65, -63, -61, -59, -57, -55, -53, -51, -49,\n",
       "       -47, -45, -43, -41, -39, -37, -35, -33, -31, -29, -27, -25, -23,\n",
       "       -21, -19, -17, -15, -13, -11,  -9,  -7,  -5,  -3,  -1,   1,   3,\n",
       "         5,   7,   9,  11,  13,  15,  17,  19,  21,  23,  25,  27,  29,\n",
       "        31,  33,  35,  37,  39,  41,  43,  45,  47,  49,  51,  53,  55,\n",
       "        57,  59,  61,  63,  65,  67,  69,  71,  73,  75,  77,  79,  81,\n",
       "        83,  85,  87,  89,  91,  93,  95,  97])"
      ]
     },
     "execution_count": 127,
     "metadata": {},
     "output_type": "execute_result"
    }
   ],
   "source": [
    "x = np.arange(-99,99,2)\n",
    "print(x.shape)\n",
    "x"
   ]
  },
  {
   "cell_type": "code",
   "execution_count": 162,
   "metadata": {},
   "outputs": [
    {
     "data": {
      "image/png": "[encoded data removed]",
      "text/plain": [
       "<Figure size 864x360 with 1 Axes>"
      ]
     },
     "metadata": {
      "needs_background": "light"
     },
     "output_type": "display_data"
    }
   ],
   "source": [
    "\n",
    "fig = plt.figure(figsize=(12,5))\n",
    "ax = fig.add_axes([0.1,0.1,0.85,0.85])\n",
    "\n",
    "ax.bar(x, correlations, align='edge', width=1.7)\n",
    "plt.ylabel(\"Number of correlations\")\n",
    "plt.xlabel(\"Time Interval (ms)\")\n",
    "plt.title(\"Q3 - Autocorrelogram\")\n",
    "plt.show()\n",
    "fig.savefig('autocorrelations.png', dpi=fig.dpi)"
   ]
  },
  {
   "cell_type": "code",
   "execution_count": null,
   "metadata": {},
   "outputs": [],
   "source": []
  },
  {
   "cell_type": "code",
   "execution_count": null,
   "metadata": {},
   "outputs": [],
   "source": []
  }
 ],
 "metadata": {
  "kernelspec": {
   "display_name": "Python 3.7.4 64-bit ('base': conda)",
   "language": "python",
   "name": "python37464bitbasecondad572fd0cb7ab471fbfff7fdb64f304d8"
  },
  "language_info": {
   "codemirror_mode": {
    "name": "ipython",
    "version": 3
   },
   "file_extension": ".py",
   "mimetype": "text/x-python",
   "name": "python",
   "nbconvert_exporter": "python",
   "pygments_lexer": "ipython3",
   "version": "3.7.4"
  }
 },
 "nbformat": 4,
 "nbformat_minor": 4
}
