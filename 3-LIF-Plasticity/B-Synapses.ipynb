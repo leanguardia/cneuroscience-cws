{
 "cells": [
  {
   "cell_type": "code",
   "execution_count": 1,
   "metadata": {},
   "outputs": [],
   "source": [
    "import numpy as np\n",
    "import matplotlib.pyplot as plt\n",
    "import random\n",
    "%matplotlib inline"
   ]
  },
  {
   "cell_type": "markdown",
   "metadata": {},
   "source": [
    "#### Question 1"
   ]
  },
  {
   "cell_type": "code",
   "execution_count": 59,
   "metadata": {},
   "outputs": [],
   "source": [
    "def voltage_diff(voltage, args_v):\n",
    "    leak_potential  = args_v['leak_potential']\n",
    "    memb_resistance = args_v['membrane_resistance']\n",
    "    tau_m           = args_v['tau_m']\n",
    "    synapse_current = args_v['synapse_current']\n",
    "\n",
    "    return (leak_potential - voltage + memb_resistance * synapse_current) / tau_m"
   ]
  },
  {
   "cell_type": "code",
   "execution_count": 60,
   "metadata": {},
   "outputs": [],
   "source": [
    "def q1_real(args_v, args_s, v_reset, v_threshold, synapses_count, time=1000, step=0.25):\n",
    "    reversal_potential      = args_s['reversal_potential']\n",
    "    peak_conductance        = args_s['g_bar']\n",
    "    delta_s                 = args_s['delta_s']\n",
    "    tau_s                   = args_s['tau_s']\n",
    "    firing_rate             = args_s['firing_rate']\n",
    "\n",
    "    time = np.linspace(0, time, int(time / step))\n",
    "\n",
    "    volts = []\n",
    "    spikes_count = 0\n",
    "    v = v_reset\n",
    "    \n",
    "    s_vec = np.zeros(synapses_count)\n",
    "    peak_vec = np.full(synapses_count, peak_conductance, dtype=float)\n",
    "\n",
    "    for i in time:\n",
    "        synapse_spikes = np.array([random.uniform(0,1) for i in range(synapses_count)])\n",
    "        for i, chance in enumerate(synapse_spikes):\n",
    "            if chance < firing_rate * step:\n",
    "                s_vec[i] += delta_s\n",
    "            else:\n",
    "                s_vec[i] = s_vec[i] - (s_vec[i] * step) / tau_s\n",
    "\n",
    "        args_v['synapse_current'] = np.sum(s_vec * peak_vec) * (reversal_potential - v)\n",
    "\n",
    "        v = v + step * voltage_diff(v, args_v)\n",
    "        \n",
    "        if (v > v_threshold):\n",
    "            spikes_count += 1\n",
    "            v = v_reset\n",
    "        volts.append(v)\n",
    "        \n",
    "    return time, volts, spikes_count"
   ]
  },
  {
   "cell_type": "code",
   "execution_count": 71,
   "metadata": {},
   "outputs": [],
   "source": [
    "args_v = {\n",
    "    'leak_potential': -65,      # E_L (mV)\n",
    "    'membrane_resistance': 100, # R_m (mV/nA)\n",
    "    'tau_m': 10                 # Membrane time constant (ms)\n",
    "}\n",
    "\n",
    "args_s = {\n",
    "    'reversal_potential': 0,      # E_s (mV)\n",
    "    'g_bar': 0.004,               # Peak conductance (nA/mV)\n",
    "    'delta_s': 0.5,               # Conductance gate jump\n",
    "    'tau_s': 2,                   # Membrane time constant (ms)\n",
    "    'firing_rate': 0.015          # Spike Frequency (spikes/ms)\n",
    "}\n",
    "\n",
    "v_reset = -65\n",
    "v_threshold = -50"
   ]
  },
  {
   "cell_type": "code",
   "execution_count": 72,
   "metadata": {
    "scrolled": false
   },
   "outputs": [
    {
     "name": "stdout",
     "output_type": "stream",
     "text": [
      "spikes_count: 0\n"
     ]
    }
   ],
   "source": [
    "synapses_count = 1\n",
    "time, volts, spikes_count = q1_real(args_v, args_s, v_reset, v_threshold, synapses_count)\n",
    "print(\"spikes_count:\", spikes_count)"
   ]
  },
  {
   "cell_type": "code",
   "execution_count": 70,
   "metadata": {},
   "outputs": [
    {
     "data": {
      "image/png": "[encoded data removed]",
      "text/plain": [
       "<Figure size 1008x360 with 1 Axes>"
      ]
     },
     "metadata": {
      "needs_background": "light"
     },
     "output_type": "display_data"
    }
   ],
   "source": [
    "def plot_q1(title, filename, time, volts):\n",
    "    fig = plt.figure(figsize=(14,5))\n",
    "    ax = fig.add_subplot()\n",
    "    ax.spines['right'].set_visible(False)\n",
    "    ax.spines['top'].set_visible(False)\n",
    "    ax.set_title(title)\n",
    "    ax.set_xlabel(\"Time (ms)\")\n",
    "    ax.set_ylabel(\"Voltage (mV)\")\n",
    "    ax.plot(time, volts)\n",
    "    ax.set_yticks(range(-65,-45,5))\n",
    "    ax.set_xticks(range(0,1001,100))\n",
    "    fig.savefig(f\"plots/{filename}.png\", bbox_inches='tight', pad_inches=0.2, dpi=100)\n",
    "title = \"Q1 - Single Neuron + 40 synapses\"\n",
    "plot_q1(title, 'b_q1', time, volts)"
   ]
  },
  {
   "cell_type": "code",
   "execution_count": 7,
   "metadata": {},
   "outputs": [],
   "source": [
    "#volts[800:1200]"
   ]
  },
  {
   "cell_type": "code",
   "execution_count": null,
   "metadata": {},
   "outputs": [],
   "source": []
  }
 ],
 "metadata": {
  "kernelspec": {
   "display_name": "Python 3.7.4 64-bit ('base': conda)",
   "language": "python",
   "name": "python37464bitbasecondad572fd0cb7ab471fbfff7fdb64f304d8"
  },
  "language_info": {
   "codemirror_mode": {
    "name": "ipython",
    "version": 3
   },
   "file_extension": ".py",
   "mimetype": "text/x-python",
   "name": "python",
   "nbconvert_exporter": "python",
   "pygments_lexer": "ipython3",
   "version": "3.7.4"
  }
 },
 "nbformat": 4,
 "nbformat_minor": 4
}
